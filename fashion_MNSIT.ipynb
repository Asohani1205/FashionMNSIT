{
  "nbformat": 4,
  "nbformat_minor": 0,
  "metadata": {
    "colab": {
      "provenance": []
    },
    "kernelspec": {
      "name": "python3",
      "display_name": "Python 3"
    },
    "language_info": {
      "name": "python"
    }
  },
  "cells": [
    {
      "cell_type": "code",
      "source": [
        "#The necessary libraries are imported. These include keras for building the deep learning model,\n",
        "#sklearn for training and evaluating the SVM, and numpy for numerical operations.\n",
        "\n",
        "from keras.datasets import fashion_mnist\n",
        "from keras.utils import to_categorical\n",
        "from keras.models import Sequential\n",
        "from keras.layers import Dense, Conv2D, Flatten, MaxPooling2D\n",
        "from sklearn.svm import SVC\n",
        "from sklearn.metrics import accuracy_score"
      ],
      "metadata": {
        "id": "NaS_chcymUqp"
      },
      "execution_count": 3,
      "outputs": []
    },
    {
      "cell_type": "code",
      "source": [
        "#The Fashion MNIST dataset is loaded using the fashion_mnist.load_data() function from Keras. This returns the training and test data as two tuples.\n",
        "\n",
        "(X_train, y_train), (X_test, y_test) = fashion_mnist.load_data()"
      ],
      "metadata": {
        "colab": {
          "base_uri": "https://localhost:8080/"
        },
        "id": "IAkN98PDnLC5",
        "outputId": "258d4ee7-a1c7-4c6b-e02a-20a0f8607e01"
      },
      "execution_count": 4,
      "outputs": [
        {
          "output_type": "stream",
          "name": "stdout",
          "text": [
            "Downloading data from https://storage.googleapis.com/tensorflow/tf-keras-datasets/train-labels-idx1-ubyte.gz\n",
            "29515/29515 [==============================] - 0s 0us/step\n",
            "Downloading data from https://storage.googleapis.com/tensorflow/tf-keras-datasets/train-images-idx3-ubyte.gz\n",
            "26421880/26421880 [==============================] - 0s 0us/step\n",
            "Downloading data from https://storage.googleapis.com/tensorflow/tf-keras-datasets/t10k-labels-idx1-ubyte.gz\n",
            "5148/5148 [==============================] - 0s 0us/step\n",
            "Downloading data from https://storage.googleapis.com/tensorflow/tf-keras-datasets/t10k-images-idx3-ubyte.gz\n",
            "4422102/4422102 [==============================] - 0s 0us/step\n"
          ]
        }
      ]
    },
    {
      "cell_type": "code",
      "source": [
        "#The data is preprocessed by reshaping the input images to have a single color channel\n",
        "#and normalizing the pixel values to be between 0 and 1. The labels are also converted to one-hot encoded vectors using the to_categorical function from Keras.\n",
        "\n",
        "X_train = X_train.reshape(X_train.shape[0], 28, 28, 1)\n",
        "X_test = X_test.reshape(X_test.shape[0], 28, 28, 1)\n",
        "X_train = X_train.astype('float32') / 255\n",
        "X_test = X_test.astype('float32') / 255\n",
        "y_train = to_categorical(y_train)\n",
        "y_test = to_categorical(y_test)"
      ],
      "metadata": {
        "id": "kJg6eRqInPVA"
      },
      "execution_count": 5,
      "outputs": []
    },
    {
      "cell_type": "code",
      "source": [
        "#The training data is split into a training set and a validation set. \n",
        "#This is done to monitor the model’s performance on unseen data during training and to prevent overfitting.\n",
        "\n",
        "X_val = X_train[50000:]\n",
        "y_val = y_train[50000:]\n",
        "X_train = X_train[:50000]\n",
        "y_train = y_train[:50000]"
      ],
      "metadata": {
        "id": "nS9fJ2T3nVPM"
      },
      "execution_count": 6,
      "outputs": []
    },
    {
      "cell_type": "code",
      "source": [
        "#A CNN model is created using the Sequential class from Keras.\n",
        "\n",
        "model = Sequential()\n",
        "model.add(Conv2D(32, kernel_size=3, activation='relu', input_shape=(28, 28, 1)))\n",
        "model.add(MaxPooling2D(pool_size=(2, 2)))\n",
        "model.add(Conv2D(64, kernel_size=3, activation='relu'))\n",
        "model.add(MaxPooling2D(pool_size=(2, 2)))\n",
        "model.add(Flatten())\n",
        "model.add(Dense(128, activation='relu'))\n",
        "model.add(Dense(10, activation='softmax'))"
      ],
      "metadata": {
        "id": "8MSj1MP2nYZt"
      },
      "execution_count": 7,
      "outputs": []
    },
    {
      "cell_type": "code",
      "source": [
        "#The model is compiled with the Adam optimizer, categorical cross-entropy loss, and accuracy as a metric.\n",
        "#It is then fit on the training data for 10 epochs, using the validation data to monitor performance.\n",
        "\n",
        "model.compile(optimizer='adam', loss='categorical_crossentropy', metrics=['accuracy'])\n",
        "model.fit(X_train, y_train, validation_data=(X_val, y_val), epochs=10)"
      ],
      "metadata": {
        "colab": {
          "base_uri": "https://localhost:8080/"
        },
        "id": "8qHhYkrIncYD",
        "outputId": "8dea759d-cff8-4f61-a2ed-280100664824"
      },
      "execution_count": 8,
      "outputs": [
        {
          "output_type": "stream",
          "name": "stdout",
          "text": [
            "Epoch 1/10\n",
            "1563/1563 [==============================] - 74s 46ms/step - loss: 0.4737 - accuracy: 0.8282 - val_loss: 0.3457 - val_accuracy: 0.8763\n",
            "Epoch 2/10\n",
            "1563/1563 [==============================] - 65s 42ms/step - loss: 0.3117 - accuracy: 0.8860 - val_loss: 0.2927 - val_accuracy: 0.8941\n",
            "Epoch 3/10\n",
            "1563/1563 [==============================] - 66s 42ms/step - loss: 0.2654 - accuracy: 0.9036 - val_loss: 0.2781 - val_accuracy: 0.8996\n",
            "Epoch 4/10\n",
            "1563/1563 [==============================] - 63s 40ms/step - loss: 0.2351 - accuracy: 0.9130 - val_loss: 0.2597 - val_accuracy: 0.9060\n",
            "Epoch 5/10\n",
            "1563/1563 [==============================] - 61s 39ms/step - loss: 0.2082 - accuracy: 0.9236 - val_loss: 0.2616 - val_accuracy: 0.9030\n",
            "Epoch 6/10\n",
            "1563/1563 [==============================] - 62s 40ms/step - loss: 0.1826 - accuracy: 0.9327 - val_loss: 0.2807 - val_accuracy: 0.8963\n",
            "Epoch 7/10\n",
            "1563/1563 [==============================] - 64s 41ms/step - loss: 0.1640 - accuracy: 0.9382 - val_loss: 0.2478 - val_accuracy: 0.9103\n",
            "Epoch 8/10\n",
            "1563/1563 [==============================] - 63s 40ms/step - loss: 0.1472 - accuracy: 0.9440 - val_loss: 0.2642 - val_accuracy: 0.9091\n",
            "Epoch 9/10\n",
            "1563/1563 [==============================] - 64s 41ms/step - loss: 0.1268 - accuracy: 0.9528 - val_loss: 0.2587 - val_accuracy: 0.9120\n",
            "Epoch 10/10\n",
            "1563/1563 [==============================] - 61s 39ms/step - loss: 0.1113 - accuracy: 0.9575 - val_loss: 0.2982 - val_accuracy: 0.9063\n"
          ]
        },
        {
          "output_type": "execute_result",
          "data": {
            "text/plain": [
              "<keras.callbacks.History at 0x7fc594b9d610>"
            ]
          },
          "metadata": {},
          "execution_count": 8
        }
      ]
    },
    {
      "cell_type": "code",
      "source": [
        "#A new model is created to extract features from the validation set using one of the fully connected layers of the trained CNN model. \n",
        "#This is done by creating a new Sequential model and adding all layers of the trained CNN model except for the final output layer.\n",
        "#The features are extracted from the validation set by calling the predict method on the feature extractor model.\n",
        "\n",
        "\n",
        "feature_extractor = Sequential()\n",
        "for layer in model.layers[:-1]:\n",
        "    feature_extractor.add(layer)\n",
        "features_val = feature_extractor.predict(X_val)"
      ],
      "metadata": {
        "colab": {
          "base_uri": "https://localhost:8080/"
        },
        "id": "NsnzQzv6nf5w",
        "outputId": "f69d1cd2-a2df-4550-fa22-70243e5c5348"
      },
      "execution_count": 9,
      "outputs": [
        {
          "output_type": "stream",
          "name": "stdout",
          "text": [
            "313/313 [==============================] - 6s 18ms/step\n"
          ]
        }
      ]
    },
    {
      "cell_type": "code",
      "source": [
        "#A linear SVM is trained on these extracted features using the SVC class from sklearn.\n",
        "\n",
        "svm = SVC(kernel='linear')\n",
        "svm.fit(features_val, y_val.argmax(axis=1))"
      ],
      "metadata": {
        "colab": {
          "base_uri": "https://localhost:8080/",
          "height": 74
        },
        "id": "sM8xYs3kqI4C",
        "outputId": "07b133c3-497b-453c-dd8b-132a696ea8c7"
      },
      "execution_count": 10,
      "outputs": [
        {
          "output_type": "execute_result",
          "data": {
            "text/plain": [
              "SVC(kernel='linear')"
            ],
            "text/html": [
              "<style>#sk-container-id-1 {color: black;background-color: white;}#sk-container-id-1 pre{padding: 0;}#sk-container-id-1 div.sk-toggleable {background-color: white;}#sk-container-id-1 label.sk-toggleable__label {cursor: pointer;display: block;width: 100%;margin-bottom: 0;padding: 0.3em;box-sizing: border-box;text-align: center;}#sk-container-id-1 label.sk-toggleable__label-arrow:before {content: \"▸\";float: left;margin-right: 0.25em;color: #696969;}#sk-container-id-1 label.sk-toggleable__label-arrow:hover:before {color: black;}#sk-container-id-1 div.sk-estimator:hover label.sk-toggleable__label-arrow:before {color: black;}#sk-container-id-1 div.sk-toggleable__content {max-height: 0;max-width: 0;overflow: hidden;text-align: left;background-color: #f0f8ff;}#sk-container-id-1 div.sk-toggleable__content pre {margin: 0.2em;color: black;border-radius: 0.25em;background-color: #f0f8ff;}#sk-container-id-1 input.sk-toggleable__control:checked~div.sk-toggleable__content {max-height: 200px;max-width: 100%;overflow: auto;}#sk-container-id-1 input.sk-toggleable__control:checked~label.sk-toggleable__label-arrow:before {content: \"▾\";}#sk-container-id-1 div.sk-estimator input.sk-toggleable__control:checked~label.sk-toggleable__label {background-color: #d4ebff;}#sk-container-id-1 div.sk-label input.sk-toggleable__control:checked~label.sk-toggleable__label {background-color: #d4ebff;}#sk-container-id-1 input.sk-hidden--visually {border: 0;clip: rect(1px 1px 1px 1px);clip: rect(1px, 1px, 1px, 1px);height: 1px;margin: -1px;overflow: hidden;padding: 0;position: absolute;width: 1px;}#sk-container-id-1 div.sk-estimator {font-family: monospace;background-color: #f0f8ff;border: 1px dotted black;border-radius: 0.25em;box-sizing: border-box;margin-bottom: 0.5em;}#sk-container-id-1 div.sk-estimator:hover {background-color: #d4ebff;}#sk-container-id-1 div.sk-parallel-item::after {content: \"\";width: 100%;border-bottom: 1px solid gray;flex-grow: 1;}#sk-container-id-1 div.sk-label:hover label.sk-toggleable__label {background-color: #d4ebff;}#sk-container-id-1 div.sk-serial::before {content: \"\";position: absolute;border-left: 1px solid gray;box-sizing: border-box;top: 0;bottom: 0;left: 50%;z-index: 0;}#sk-container-id-1 div.sk-serial {display: flex;flex-direction: column;align-items: center;background-color: white;padding-right: 0.2em;padding-left: 0.2em;position: relative;}#sk-container-id-1 div.sk-item {position: relative;z-index: 1;}#sk-container-id-1 div.sk-parallel {display: flex;align-items: stretch;justify-content: center;background-color: white;position: relative;}#sk-container-id-1 div.sk-item::before, #sk-container-id-1 div.sk-parallel-item::before {content: \"\";position: absolute;border-left: 1px solid gray;box-sizing: border-box;top: 0;bottom: 0;left: 50%;z-index: -1;}#sk-container-id-1 div.sk-parallel-item {display: flex;flex-direction: column;z-index: 1;position: relative;background-color: white;}#sk-container-id-1 div.sk-parallel-item:first-child::after {align-self: flex-end;width: 50%;}#sk-container-id-1 div.sk-parallel-item:last-child::after {align-self: flex-start;width: 50%;}#sk-container-id-1 div.sk-parallel-item:only-child::after {width: 0;}#sk-container-id-1 div.sk-dashed-wrapped {border: 1px dashed gray;margin: 0 0.4em 0.5em 0.4em;box-sizing: border-box;padding-bottom: 0.4em;background-color: white;}#sk-container-id-1 div.sk-label label {font-family: monospace;font-weight: bold;display: inline-block;line-height: 1.2em;}#sk-container-id-1 div.sk-label-container {text-align: center;}#sk-container-id-1 div.sk-container {/* jupyter's `normalize.less` sets `[hidden] { display: none; }` but bootstrap.min.css set `[hidden] { display: none !important; }` so we also need the `!important` here to be able to override the default hidden behavior on the sphinx rendered scikit-learn.org. See: https://github.com/scikit-learn/scikit-learn/issues/21755 */display: inline-block !important;position: relative;}#sk-container-id-1 div.sk-text-repr-fallback {display: none;}</style><div id=\"sk-container-id-1\" class=\"sk-top-container\"><div class=\"sk-text-repr-fallback\"><pre>SVC(kernel=&#x27;linear&#x27;)</pre><b>In a Jupyter environment, please rerun this cell to show the HTML representation or trust the notebook. <br />On GitHub, the HTML representation is unable to render, please try loading this page with nbviewer.org.</b></div><div class=\"sk-container\" hidden><div class=\"sk-item\"><div class=\"sk-estimator sk-toggleable\"><input class=\"sk-toggleable__control sk-hidden--visually\" id=\"sk-estimator-id-1\" type=\"checkbox\" checked><label for=\"sk-estimator-id-1\" class=\"sk-toggleable__label sk-toggleable__label-arrow\">SVC</label><div class=\"sk-toggleable__content\"><pre>SVC(kernel=&#x27;linear&#x27;)</pre></div></div></div></div></div>"
            ]
          },
          "metadata": {},
          "execution_count": 10
        }
      ]
    },
    {
      "cell_type": "code",
      "source": [
        "#Features are also extracted from the test set using the same feature extractor model.\n",
        "\n",
        "features_test = feature_extractor.predict(X_test)"
      ],
      "metadata": {
        "colab": {
          "base_uri": "https://localhost:8080/"
        },
        "id": "hk8D-ERYqPz4",
        "outputId": "0343881a-096e-4498-daf2-0ba0e91369fd"
      },
      "execution_count": 11,
      "outputs": [
        {
          "output_type": "stream",
          "name": "stdout",
          "text": [
            "313/313 [==============================] - 8s 24ms/step\n"
          ]
        }
      ]
    },
    {
      "cell_type": "code",
      "source": [
        "#The trained SVM is evaluated on these test set features using the accuracy_score function from sklearn.\n",
        "\n",
        "y_pred = svm.predict(features_test)\n",
        "accuracy = accuracy_score(y_test.argmax(axis=1), y_pred)\n",
        "print(f'Test accuracy: {accuracy}')"
      ],
      "metadata": {
        "colab": {
          "base_uri": "https://localhost:8080/"
        },
        "id": "SQwfzo6_qXb7",
        "outputId": "34fdd297-2360-4153-b80b-2a61f5b24d55"
      },
      "execution_count": 12,
      "outputs": [
        {
          "output_type": "stream",
          "name": "stdout",
          "text": [
            "Test accuracy: 0.9009\n"
          ]
        }
      ]
    },
    {
      "cell_type": "code",
      "source": [],
      "metadata": {
        "id": "u5JDGlxJqdaa"
      },
      "execution_count": null,
      "outputs": []
    }
  ]
}